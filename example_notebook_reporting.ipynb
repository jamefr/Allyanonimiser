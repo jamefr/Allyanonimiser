{
 "cells": [
  {
   "cell_type": "markdown",
   "metadata": {},
   "source": [
    "# Allyanonimiser Reporting in Jupyter Notebooks\n",
    "\n",
    "This notebook demonstrates the rich visualization capabilities of the Allyanonimiser reporting system when used in Jupyter notebooks."
   ]
  },
  {
   "cell_type": "markdown",
   "metadata": {},
   "source": [
    "## Setup and Imports"
   ]
  },
  {
   "cell_type": "code",
   "execution_count": null,
   "metadata": {},
   "source": [
    "from allyanonimiser import create_allyanonimiser, AnonymizationConfig\n",
    "import pandas as pd\n",
    "import matplotlib.pyplot as plt\n",
    "import time"
   ]
  },
  {
   "cell_type": "markdown",
   "metadata": {},
   "source": [
    "## Sample Data\n",
    "\n",
    "Let's create some sample text containing different types of PII to demonstrate the reporting capabilities."
   ]
  },
  {
   "cell_type": "code",
   "execution_count": null,
   "metadata": {},
   "source": [
    "sample_texts = [\n",
    "    \"\"\"\n",
    "    Customer Name: John Smith\n",
    "    Policy Number: POL-12345678\n",
    "    Date of Birth: 15/07/1982\n",
    "    Email: john.smith@example.com\n",
    "    Phone: 0412 345 678\n",
    "    Address: 42 Main Street, Sydney NSW 2000\n",
    "    TFN: 123 456 789\n",
    "    \"\"\",\n",
    "    \n",
    "    \"\"\"\n",
    "    Claim #: CL-87654321\n",
    "    Claimant: Jane Doe\n",
    "    Medicare: 2345 67891 0\n",
    "    Contact: jane.doe@company.org or 0423 456 789\n",
    "    Incident occurred on 22/03/2023 at 123 Business Ave, Melbourne VIC 3000\n",
    "    \"\"\",\n",
    "    \n",
    "    \"\"\"\n",
    "    Patient: Robert Johnson\n",
    "    DOB: 10/11/1975\n",
    "    Driver's License: NSW12345678\n",
    "    Referred by Dr. Sarah Williams (Medical Registration: MED-98765)\n",
    "    Clinical notes: Patient reports lower back pain following MVA on 05/02/2023.\n",
    "    \"\"\",\n",
    "    \n",
    "    \"\"\"\n",
    "    From: michael.brown@enterprise.com\n",
    "    To: support@insurance.com\n",
    "    Subject: Claim Update - Michael Brown (DOB: 03/09/1990)\n",
    "    \n",
    "    Hello,\n",
    "    \n",
    "    I'm writing to update my claim #CL-54321. My new address is 78 Park Avenue, Brisbane QLD 4000.\n",
    "    Please update your records with my new phone number: 0487 654 321.\n",
    "    \n",
    "    Regards,\n",
    "    Michael Brown\n",
    "    Credit Card: 4111-2222-3333-4444 (please don't store this)\n",
    "    ABN: 12 345 678 901\n",
    "    \"\"\",\n",
    "    \n",
    "    \"\"\"\n",
    "    Internal Memo - Confidential\n",
    "    \n",
    "    RE: Case Review for Elizabeth Wilson (ID: 987654321)\n",
    "    \n",
    "    Key details:\n",
    "    - Customer since: 15/03/2015\n",
    "    - Date of incident: 12/12/2022\n",
    "    - Policy: HEALTH-9876543\n",
    "    - Claims assessor: David Thompson (Employee ID: EMP-45678)\n",
    "    \n",
    "    Customer can be reached at elizabeth.wilson@personalmail.net or on her mobile 0432 567 890.\n",
    "    Her Medicare number is 3456 78901 2 and her TFN is 987 654 321.\n",
    "    \"\"\"\n",
    "]"
   ]
  },
  {
   "cell_type": "markdown",
   "metadata": {},
   "source": [
    "## Create Allyanonimiser Instance and Configure Anonymization"
   ]
  },
  {
   "cell_type": "code",
   "execution_count": null,
   "metadata": {},
   "source": [
    "# Create an Allyanonimiser instance\n",
    "ally = create_allyanonimiser()\n",
    "\n",
    "# Configure anonymization operations\n",
    "config = AnonymizationConfig(\n",
    "    operators={\n",
    "        \"PERSON\": \"replace\",\n",
    "        \"EMAIL_ADDRESS\": \"mask\",\n",
    "        \"PHONE_NUMBER\": \"redact\",\n",
    "        \"AU_ADDRESS\": \"replace\",\n",
    "        \"DATE_OF_BIRTH\": \"age_bracket\",\n",
    "        \"AU_TFN\": \"hash\",\n",
    "        \"AU_MEDICARE\": \"mask\",\n",
    "        \"AU_ABN\": \"mask\",\n",
    "        \"CREDIT_CARD\": \"mask\"\n",
    "    },\n",
    "    age_bracket_size=10\n",
    ")"
   ]
  },
  {
   "cell_type": "markdown",
   "metadata": {},
   "source": [
    "## Start a New Report Session"
   ]
  },
  {
   "cell_type": "code",
   "execution_count": null,
   "metadata": {},
   "source": [
    "# Start a new report session\n",
    "report = ally.start_new_report(session_id=\"notebook_example\")\n",
    "print(f\"Started new report session: {report.session_id}\")"
   ]
  },
  {
   "cell_type": "markdown",
   "metadata": {},
   "source": [
    "## Process Sample Texts and Record Results"
   ]
  },
  {
   "cell_type": "code",
   "execution_count": null,
   "metadata": {},
   "source": [
    "# Process each sample text\n",
    "for i, text in enumerate(sample_texts):\n",
    "    print(f\"Processing sample {i+1}...\")\n",
    "    \n",
    "    # Process the text and record statistics\n",
    "    result = ally.anonymize(\n",
    "        text=text,\n",
    "        config=config,\n",
    "        document_id=f\"sample_{i+1}\"\n",
    "    )\n",
    "    \n",
    "    # Display anonymized result (just the first one as an example)\n",
    "    if i == 0:\n",
    "        print(\"\\nExample of anonymized text:\")\n",
    "        print(result[\"text\"])"
   ]
  },
  {
   "cell_type": "markdown",
   "metadata": {},
   "source": [
    "## Display Rich Report Visualizations\n",
    "\n",
    "Now we'll display the report with rich visualizations using the built-in notebook display functionality."
   ]
  },
  {
   "cell_type": "code",
   "execution_count": null,
   "metadata": {},
   "source": [
    "# Display the report with rich visualizations\n",
    "ally.display_report_in_notebook()"
   ]
  },
  {
   "cell_type": "markdown",
   "metadata": {},
   "source": [
    "## Access and Display Report Data Programmatically\n",
    "\n",
    "You can also access the report data programmatically and create custom visualizations."
   ]
  },
  {
   "cell_type": "code",
   "execution_count": null,
   "metadata": {},
   "source": [
    "# Get the report summary\n",
    "report = ally.get_report()\n",
    "summary = report.get_summary()\n",
    "\n",
    "# Display key metrics\n",
    "print(f\"Total documents processed: {summary['total_documents']}\")\n",
    "print(f\"Total entities detected: {summary['total_entities']}\")\n",
    "print(f\"Entities per document: {summary['entities_per_document']:.2f}\")\n",
    "print(f\"Anonymization rate: {summary['anonymization_rate']*100:.2f}%\")\n",
    "print(f\"Average processing time: {summary['avg_processing_time']*1000:.2f} ms\")"
   ]
  },
  {
   "cell_type": "markdown",
   "metadata": {},
   "source": [
    "## Custom Visualization: Entity Type Distribution"
   ]
  },
  {
   "cell_type": "code",
   "execution_count": null,
   "metadata": {},
   "source": [
    "# Create a custom visualization of entity type distribution\n",
    "entity_counts = summary['entity_counts']\n",
    "entity_types = list(entity_counts.keys())\n",
    "counts = list(entity_counts.values())\n",
    "\n",
    "# Sort by count in descending order\n",
    "entity_counts_sorted = sorted(entity_counts.items(), key=lambda x: x[1], reverse=True)\n",
    "entity_types = [item[0] for item in entity_counts_sorted]\n",
    "counts = [item[1] for item in entity_counts_sorted]\n",
    "\n",
    "plt.figure(figsize=(12, 6))\n",
    "bars = plt.bar(entity_types, counts, color='skyblue')\n",
    "\n",
    "# Add count labels on top of each bar\n",
    "for bar in bars:\n",
    "    height = bar.get_height()\n",
    "    plt.text(bar.get_x() + bar.get_width()/2., height + 0.1,\n",
    "            f'{int(height)}',\n",
    "            ha='center', va='bottom', fontweight='bold')\n",
    "\n",
    "plt.title('Entity Types Detected', fontsize=15)\n",
    "plt.xlabel('Entity Type', fontsize=12)\n",
    "plt.ylabel('Count', fontsize=12)\n",
    "plt.xticks(rotation=45, ha='right')\n",
    "plt.tight_layout()\n",
    "plt.show()"
   ]
  },
  {
   "cell_type": "markdown",
   "metadata": {},
   "source": [
    "## Custom Visualization: Operator Usage"
   ]
  },
  {
   "cell_type": "code",
   "execution_count": null,
   "metadata": {},
   "source": [
    "# Create a custom visualization of operator usage\n",
    "operator_counts = summary['operator_counts']\n",
    "operators = list(operator_counts.keys())\n",
    "op_counts = list(operator_counts.values())\n",
    "\n",
    "# Sort by count\n",
    "operator_counts_sorted = sorted(operator_counts.items(), key=lambda x: x[1], reverse=True)\n",
    "operators = [item[0] for item in operator_counts_sorted]\n",
    "op_counts = [item[1] for item in operator_counts_sorted]\n",
    "\n",
    "# Calculate percentages\n",
    "total = sum(op_counts)\n",
    "percentages = [count/total*100 for count in op_counts]\n",
    "\n",
    "# Create pie chart\n",
    "plt.figure(figsize=(10, 6))\n",
    "plt.pie(op_counts, labels=operators, autopct='%1.1f%%', startangle=90, shadow=True)\n",
    "plt.title('Anonymization Operators Used', fontsize=15)\n",
    "plt.axis('equal')  # Equal aspect ratio ensures that pie is drawn as a circle\n",
    "plt.tight_layout()\n",
    "plt.show()"
   ]
  },
  {
   "cell_type": "markdown",
   "metadata": {},
   "source": [
    "## Export Reports to Different Formats\n",
    "\n",
    "The report can be exported to different formats for sharing or further analysis."
   ]
  },
  {
   "cell_type": "code",
   "execution_count": null,
   "metadata": {},
   "source": [
    "# Export report to different formats\n",
    "html_path = \"output/notebook_report.html\"\n",
    "json_path = \"output/notebook_report.json\"\n",
    "csv_path = \"output/notebook_stats.csv\"\n",
    "\n",
    "# Export to HTML (rich visualization)\n",
    "report.export_report(html_path, \"html\")\n",
    "print(f\"HTML report saved to {html_path}\")\n",
    "\n",
    "# Export to JSON (full data)\n",
    "report.export_report(json_path, \"json\")\n",
    "print(f\"JSON report saved to {json_path}\")\n",
    "\n",
    "# Export to CSV (document statistics)\n",
    "report.export_report(csv_path, \"csv\")\n",
    "print(f\"CSV statistics saved to {csv_path}\")"
   ]
  },
  {
   "cell_type": "markdown",
   "metadata": {},
   "source": [
    "## Working with Document-Level Data\n",
    "\n",
    "The reporting system also tracks document-level statistics, which can be analyzed separately."
   ]
  },
  {
   "cell_type": "code",
   "execution_count": null,
   "metadata": {},
   "source": [
    "# Create a DataFrame from document statistics\n",
    "document_stats = pd.DataFrame(report.document_stats)\n",
    "document_stats"
   ]
  },
  {
   "cell_type": "code",
   "execution_count": null,
   "metadata": {},
   "source": [
    "# Visualize document-level statistics\n",
    "plt.figure(figsize=(12, 6))\n",
    "\n",
    "# Create a dual-axis plot for processing time and entity count\n",
    "ax1 = plt.gca()\n",
    "ax2 = ax1.twinx()\n",
    "\n",
    "# Plot processing time (bars)\n",
    "bars = ax1.bar(document_stats['document_id'], document_stats['processing_time'] * 1000, \n",
    "               color='lightblue', alpha=0.7, label='Processing Time (ms)')\n",
    "ax1.set_ylabel('Processing Time (ms)', color='blue')\n",
    "ax1.tick_params(axis='y', labelcolor='blue')\n",
    "\n",
    "# Plot entity count (line)\n",
    "line = ax2.plot(document_stats['document_id'], document_stats['entity_count'], \n",
    "                color='red', marker='o', linewidth=2, label='Entity Count')\n",
    "ax2.set_ylabel('Entity Count', color='red')\n",
    "ax2.tick_params(axis='y', labelcolor='red')\n",
    "\n",
    "# Add labels for both metrics\n",
    "for i, bar in enumerate(bars):\n",
    "    height = bar.get_height()\n",
    "    ax1.text(bar.get_x() + bar.get_width()/2., height + 1,\n",
    "            f'{height:.1f}',\n",
    "            ha='center', va='bottom', color='blue', fontsize=9)\n",
    "    \n",
    "    entity_count = document_stats['entity_count'].iloc[i]\n",
    "    ax2.text(i, entity_count + 0.3,\n",
    "            f'{entity_count}',\n",
    "            ha='center', va='bottom', color='red', fontsize=9)\n",
    "\n",
    "plt.title('Document Processing Metrics', fontsize=15)\n",
    "plt.grid(True, alpha=0.3)\n",
    "plt.xticks(rotation=45)\n",
    "plt.tight_layout()\n",
    "\n",
    "# Add legend\n",
    "lines, labels = ax1.get_legend_handles_labels()\n",
    "lines2, labels2 = ax2.get_legend_handles_labels()\n",
    "ax1.legend(lines + lines2, labels + labels2, loc='upper left')\n",
    "\n",
    "plt.show()"
   ]
  },
  {
   "cell_type": "markdown",
   "metadata": {},
   "source": [
    "## Anonymization Ratio by Document\n",
    "\n",
    "Let's visualize how much of each document's text was anonymized."
   ]
  },
  {
   "cell_type": "code",
   "execution_count": null,
   "metadata": {},
   "source": [
    "# Plot anonymization ratio by document\n",
    "plt.figure(figsize=(12, 6))\n",
    "\n",
    "# Create percentage data\n",
    "anonymized_pct = document_stats['anonymization_ratio'] * 100\n",
    "remaining_pct = 100 - anonymized_pct\n",
    "\n",
    "# Create a stacked bar chart\n",
    "bar_width = 0.6\n",
    "indices = range(len(document_stats))\n",
    "\n",
    "p1 = plt.bar(indices, anonymized_pct, bar_width, color='#ff9999', label='Anonymized (%)')\n",
    "p2 = plt.bar(indices, remaining_pct, bar_width, bottom=anonymized_pct, color='#99ff99', label='Original (%)')\n",
    "\n",
    "# Add percentage labels inside bars\n",
    "for i, (anon, orig) in enumerate(zip(anonymized_pct, remaining_pct)):\n",
    "    if anon > 5:  # Only add text if there's enough space\n",
    "        plt.text(i, anon/2, f'{anon:.1f}%', ha='center', va='center', color='black', fontweight='bold')\n",
    "    if orig > 5:\n",
    "        plt.text(i, anon + orig/2, f'{orig:.1f}%', ha='center', va='center', color='black', fontweight='bold')\n",
    "\n",
    "plt.ylabel('Percentage of Text')\n",
    "plt.title('Anonymization Ratio by Document')\n",
    "plt.xticks(indices, document_stats['document_id'], rotation=45)\n",
    "plt.ylim(0, 100)\n",
    "plt.legend(loc='upper right')\n",
    "plt.tight_layout()\n",
    "plt.show()"
   ]
  },
  {
   "cell_type": "markdown",
   "metadata": {},
   "source": [
    "## Generate Report for File Processing\n",
    "\n",
    "For real-world scenarios, you can also generate reports when processing files."
   ]
  },
  {
   "cell_type": "code",
   "execution_count": null,
   "metadata": {},
   "source": [
    "# Example of file processing with built-in reporting\n",
    "print(\"When processing files, use:\")\n",
    "print(\"\"\"result = ally.process_files(\n",
    "    file_paths=[\"file1.txt\", \"file2.txt\"],\n",
    "    output_dir=\"output\",\n",
    "    operators={\"PERSON\": \"replace\", \"EMAIL_ADDRESS\": \"mask\"},\n",
    "    report=True,\n",
    "    report_output=\"output/batch_report.html\",\n",
    "    report_format=\"html\"\n",
    ")\"\"\")\n",
    "print(\"\\nThis will generate a comprehensive processing report automatically.\")"
   ]
  },
  {
   "cell_type": "markdown",
   "metadata": {},
   "source": [
    "## Conclusion\n",
    "\n",
    "The Allyanonimiser reporting system provides rich insights into anonymization activities, helping you understand what PII is being detected in your data and how it's being anonymized. The notebook integration allows for interactive exploration of the reports with rich visualizations."
   ]
  }
 ],
 "metadata": {
  "kernelspec": {
   "display_name": "Python 3",
   "language": "python",
   "name": "python3"
  },
  "language_info": {
   "codemirror_mode": {
    "name": "ipython",
    "version": 3
   },
   "file_extension": ".py",
   "mimetype": "text/x-python",
   "name": "python",
   "nbconvert_exporter": "python",
   "pygments_lexer": "ipython3",
   "version": "3.9.9"
  }
 },
 "nbformat": 4,
 "nbformat_minor": 4
}